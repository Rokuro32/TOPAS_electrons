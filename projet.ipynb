{
 "cells": [
  {
   "cell_type": "markdown",
   "id": "af3e292a",
   "metadata": {},
   "source": [
    "# Simulations MC - TOPAS - Équipe Électrons"
   ]
  },
  {
   "cell_type": "markdown",
   "id": "512b881a",
   "metadata": {},
   "source": [
    "J'aime passer 3h à installer TOPAS je suis surtout pas en train de tweak"
   ]
  }
 ],
 "metadata": {
  "language_info": {
   "name": "python"
  }
 },
 "nbformat": 4,
 "nbformat_minor": 5
}
