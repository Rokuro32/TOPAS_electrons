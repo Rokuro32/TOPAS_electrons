{
 "cells": [
  {
   "cell_type": "markdown",
   "id": "af3e292a",
   "metadata": {},
   "source": [
    "# Simulations MC - TOPAS - Équipe Électrons"
   ]
  },
  {
   "cell_type": "markdown",
   "id": "14229379",
   "metadata": {},
   "source": [
    "# Xavier - Safarou - Nicolas"
   ]
  },
  {
   "cell_type": "markdown",
   "id": "512b881a",
   "metadata": {},
   "source": [
    "J'aime passer 3h à installer TOPAS je suis surtout pas en train de tweak"
   ]
  },
  {
   "cell_type": "markdown",
   "id": "4f21cfc3",
   "metadata": {},
   "source": [
    "Une partie du code ci-présente est issue du travail de l'équipe de l'an dernier (donc de celles de toutes les années passées)"
   ]
  },
  {
   "cell_type": "code",
   "execution_count": null,
   "id": "18ba3ea0",
   "metadata": {},
   "outputs": [],
   "source": [
    "import numpy as np\n",
    "import matplotlib.pyplot as plt\n",
    "import pandas as pd\n",
    "from scipy import interpolate\n",
    "from matplotlib.patches import Rectangle\n",
    "from scipy.stats import linregress\n",
    "from scipy.interpolate import make_interp_spline\n",
    "import seaborn as sns"
   ]
  },
  {
   "cell_type": "code",
   "execution_count": null,
   "id": "919b400e",
   "metadata": {},
   "outputs": [],
   "source": [
    "def csv_to_np(name, sub_directory, skip_num=8, start_col=2):\n",
    "    data = pd.read_csv(\"Données/\" + sub_directory + \"/\"+name,sep=',', header=None, skiprows=skip_num).to_numpy()[:,start_col:]\n",
    "    return data\n",
    "\n",
    "# Constantes\n",
    "\n",
    "MeV_to_joule = 1.602176565e-13 # J/MeV\n",
    "rho_eau = 0.9982 # g/cm3\n",
    "Rcsda = np.array([4.367e-1, 0.9783, 2.35, 4.975, 9.32, 13.17, 16.65, 19.83])"
   ]
  }
 ],
 "metadata": {
  "kernelspec": {
   "display_name": "gMCO",
   "language": "python",
   "name": "python3"
  },
  "language_info": {
   "name": "python",
   "version": "3.9.21"
  }
 },
 "nbformat": 4,
 "nbformat_minor": 5
}
